{
 "cells": [
  {
   "cell_type": "markdown",
   "id": "dd381e07",
   "metadata": {},
   "source": [
    "## MLFlow Tracking Server"
   ]
  },
  {
   "cell_type": "code",
   "execution_count": 9,
   "id": "546c7b06",
   "metadata": {},
   "outputs": [],
   "source": [
    "import mlflow"
   ]
  },
  {
   "cell_type": "code",
   "execution_count": 10,
   "id": "afd1204e",
   "metadata": {},
   "outputs": [],
   "source": [
    "mlflow.set_tracking_uri(\"http://127.0.0.1:5000\")\n"
   ]
  },
  {
   "cell_type": "code",
   "execution_count": 11,
   "id": "946cab9e",
   "metadata": {},
   "outputs": [
    {
     "name": "stderr",
     "output_type": "stream",
     "text": [
      "2025/09/06 18:05:16 INFO mlflow.tracking.fluent: Experiment with name 'check loacalhost connection' does not exist. Creating a new experiment.\n"
     ]
    },
    {
     "name": "stdout",
     "output_type": "stream",
     "text": [
      "🏃 View run funny-steed-736 at: http://127.0.0.1:5000/#/experiments/181541939940756126/runs/39ab405b6593466bbaf8a0c9ccad352d\n",
      "🧪 View experiment at: http://127.0.0.1:5000/#/experiments/181541939940756126\n"
     ]
    }
   ],
   "source": [
    "mlflow.set_experiment(\"check loacalhost connection\")\n",
    "\n",
    "with mlflow.start_run():\n",
    "    mlflow.log_metric(\"test\",1)\n",
    "    mlflow.log_metric(\"sagar\",2)"
   ]
  },
  {
   "cell_type": "code",
   "execution_count": 12,
   "id": "089fefc6",
   "metadata": {},
   "outputs": [
    {
     "name": "stdout",
     "output_type": "stream",
     "text": [
      "🏃 View run honorable-ray-582 at: http://127.0.0.1:5000/#/experiments/181541939940756126/runs/5cc10c8832b04bb1bdabb1e7afe90891\n",
      "🧪 View experiment at: http://127.0.0.1:5000/#/experiments/181541939940756126\n"
     ]
    }
   ],
   "source": [
    "with mlflow.start_run():\n",
    "    mlflow.log_metric(\"test1\",1)\n",
    "    mlflow.log_metric(\"sagar1\",2)"
   ]
  },
  {
   "cell_type": "code",
   "execution_count": 13,
   "id": "dc975774",
   "metadata": {},
   "outputs": [
    {
     "name": "stdout",
     "output_type": "stream",
     "text": [
      "🏃 View run bold-croc-691 at: http://127.0.0.1:5000/#/experiments/181541939940756126/runs/57198dd4aeb4424482e3f7deb5ac2267\n",
      "🧪 View experiment at: http://127.0.0.1:5000/#/experiments/181541939940756126\n"
     ]
    }
   ],
   "source": [
    "with mlflow.start_run():\n",
    "    mlflow.log_metric(\"test2\",1)\n",
    "    mlflow.log_metric(\"sagar2\",2)"
   ]
  },
  {
   "cell_type": "code",
   "execution_count": null,
   "id": "3910e1b7",
   "metadata": {},
   "outputs": [],
   "source": []
  }
 ],
 "metadata": {
  "kernelspec": {
   "display_name": "Python 3",
   "language": "python",
   "name": "python3"
  },
  "language_info": {
   "codemirror_mode": {
    "name": "ipython",
    "version": 3
   },
   "file_extension": ".py",
   "mimetype": "text/x-python",
   "name": "python",
   "nbconvert_exporter": "python",
   "pygments_lexer": "ipython3",
   "version": "3.10.0"
  }
 },
 "nbformat": 4,
 "nbformat_minor": 5
}
